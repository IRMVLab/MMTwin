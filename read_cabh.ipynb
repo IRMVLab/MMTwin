{
 "cells": [
  {
   "cell_type": "code",
   "execution_count": 1,
   "id": "d3c05b11",
   "metadata": {},
   "outputs": [],
   "source": [
    "import numpy as np\n",
    "import os\n",
    "\n",
    "nframes = []\n",
    "traj_all = []\n",
    "date_all = []\n",
    "glip_feats_all = []\n",
    "target_filenames = []\n",
    "phase = 'train'\n",
    "max_frames = 50\n",
    "\n",
    "date_dir = \"your_path/hand_data_for_pipeline_mask_redcup\"\n",
    "glip_feats_dir = \"your_path/glip_feats_redcup\"\n",
    "train_filenames = \"your_path/train_split.txt\"\n",
    "test_filenames = \"your_path/test_split.txt\""
   ]
  },
  {
   "cell_type": "code",
   "execution_count": 2,
   "id": "21d2294e",
   "metadata": {},
   "outputs": [],
   "source": [
    "def read_train_test_split(phase, train_filenames, test_filenames):\n",
    "    if phase == 'train':\n",
    "        with open(train_filenames, \"r\") as train_file:\n",
    "            split_filenames = [line.strip() for line in train_file]\n",
    "    else:\n",
    "        with open(test_filenames, \"r\") as test_file:\n",
    "            split_filenames = [line.strip() for line in test_file]\n",
    "    return split_filenames"
   ]
  },
  {
   "cell_type": "code",
   "execution_count": 3,
   "id": "59885202",
   "metadata": {
    "scrolled": false
   },
   "outputs": [
    {
     "ename": "FileNotFoundError",
     "evalue": "[Errno 2] No such file or directory: 'your_path/train_split.txt'",
     "output_type": "error",
     "traceback": [
      "\u001b[0;31m---------------------------------------------------------------------------\u001b[0m",
      "\u001b[0;31mFileNotFoundError\u001b[0m                         Traceback (most recent call last)",
      "Cell \u001b[0;32mIn[3], line 1\u001b[0m\n\u001b[0;32m----> 1\u001b[0m split_filenames \u001b[38;5;241m=\u001b[39m read_train_test_split(phase, train_filenames, test_filenames)\n\u001b[1;32m      2\u001b[0m date_path_all \u001b[38;5;241m=\u001b[39m \u001b[38;5;28msorted\u001b[39m([p \u001b[38;5;28;01mfor\u001b[39;00m p \u001b[38;5;129;01min\u001b[39;00m os\u001b[38;5;241m.\u001b[39mlistdir(date_dir)])\n",
      "Cell \u001b[0;32mIn[2], line 3\u001b[0m, in \u001b[0;36mread_train_test_split\u001b[0;34m(phase, train_filenames, test_filenames)\u001b[0m\n\u001b[1;32m      1\u001b[0m \u001b[38;5;28;01mdef\u001b[39;00m \u001b[38;5;21mread_train_test_split\u001b[39m(phase, train_filenames, test_filenames):\n\u001b[1;32m      2\u001b[0m     \u001b[38;5;28;01mif\u001b[39;00m phase \u001b[38;5;241m==\u001b[39m \u001b[38;5;124m'\u001b[39m\u001b[38;5;124mtrain\u001b[39m\u001b[38;5;124m'\u001b[39m:\n\u001b[0;32m----> 3\u001b[0m         \u001b[38;5;28;01mwith\u001b[39;00m \u001b[38;5;28mopen\u001b[39m(train_filenames, \u001b[38;5;124m\"\u001b[39m\u001b[38;5;124mr\u001b[39m\u001b[38;5;124m\"\u001b[39m) \u001b[38;5;28;01mas\u001b[39;00m train_file:\n\u001b[1;32m      4\u001b[0m             split_filenames \u001b[38;5;241m=\u001b[39m [line\u001b[38;5;241m.\u001b[39mstrip() \u001b[38;5;28;01mfor\u001b[39;00m line \u001b[38;5;129;01min\u001b[39;00m train_file]\n\u001b[1;32m      5\u001b[0m     \u001b[38;5;28;01melse\u001b[39;00m:\n",
      "File \u001b[0;32m~/anaconda3/lib/python3.11/site-packages/IPython/core/interactiveshell.py:284\u001b[0m, in \u001b[0;36m_modified_open\u001b[0;34m(file, *args, **kwargs)\u001b[0m\n\u001b[1;32m    277\u001b[0m \u001b[38;5;28;01mif\u001b[39;00m file \u001b[38;5;129;01min\u001b[39;00m {\u001b[38;5;241m0\u001b[39m, \u001b[38;5;241m1\u001b[39m, \u001b[38;5;241m2\u001b[39m}:\n\u001b[1;32m    278\u001b[0m     \u001b[38;5;28;01mraise\u001b[39;00m \u001b[38;5;167;01mValueError\u001b[39;00m(\n\u001b[1;32m    279\u001b[0m         \u001b[38;5;124mf\u001b[39m\u001b[38;5;124m\"\u001b[39m\u001b[38;5;124mIPython won\u001b[39m\u001b[38;5;124m'\u001b[39m\u001b[38;5;124mt let you open fd=\u001b[39m\u001b[38;5;132;01m{\u001b[39;00mfile\u001b[38;5;132;01m}\u001b[39;00m\u001b[38;5;124m by default \u001b[39m\u001b[38;5;124m\"\u001b[39m\n\u001b[1;32m    280\u001b[0m         \u001b[38;5;124m\"\u001b[39m\u001b[38;5;124mas it is likely to crash IPython. If you know what you are doing, \u001b[39m\u001b[38;5;124m\"\u001b[39m\n\u001b[1;32m    281\u001b[0m         \u001b[38;5;124m\"\u001b[39m\u001b[38;5;124myou can use builtins\u001b[39m\u001b[38;5;124m'\u001b[39m\u001b[38;5;124m open.\u001b[39m\u001b[38;5;124m\"\u001b[39m\n\u001b[1;32m    282\u001b[0m     )\n\u001b[0;32m--> 284\u001b[0m \u001b[38;5;28;01mreturn\u001b[39;00m io_open(file, \u001b[38;5;241m*\u001b[39margs, \u001b[38;5;241m*\u001b[39m\u001b[38;5;241m*\u001b[39mkwargs)\n",
      "\u001b[0;31mFileNotFoundError\u001b[0m: [Errno 2] No such file or directory: 'your_path/train_split.txt'"
     ]
    }
   ],
   "source": [
    "split_filenames = read_train_test_split(phase, train_filenames, test_filenames)\n",
    "date_path_all = sorted([p for p in os.listdir(date_dir)])"
   ]
  },
  {
   "cell_type": "code",
   "execution_count": 4,
   "id": "11027889",
   "metadata": {},
   "outputs": [
    {
     "ename": "NameError",
     "evalue": "name 'date_path_all' is not defined",
     "output_type": "error",
     "traceback": [
      "\u001b[0;31m---------------------------------------------------------------------------\u001b[0m",
      "\u001b[0;31mNameError\u001b[0m                                 Traceback (most recent call last)",
      "Cell \u001b[0;32mIn[4], line 2\u001b[0m\n\u001b[1;32m      1\u001b[0m \u001b[38;5;66;03m# read traj files and vision features\u001b[39;00m\n\u001b[0;32m----> 2\u001b[0m \u001b[38;5;28;01mfor\u001b[39;00m date_path \u001b[38;5;129;01min\u001b[39;00m date_path_all:\n\u001b[1;32m      3\u001b[0m     \u001b[38;5;28;01mif\u001b[39;00m \u001b[38;5;129;01mnot\u001b[39;00m (date_path \u001b[38;5;129;01min\u001b[39;00m split_filenames):\n\u001b[1;32m      4\u001b[0m         \u001b[38;5;28;01mcontinue\u001b[39;00m\n",
      "\u001b[0;31mNameError\u001b[0m: name 'date_path_all' is not defined"
     ]
    }
   ],
   "source": [
    "# read traj files and vision features\n",
    "for date_path in date_path_all:\n",
    "    if not (date_path in split_filenames):\n",
    "        continue\n",
    "    target_filenames.append(date_path)\n",
    "    traj_path = os.path.join(date_dir, date_path, \"traj3d_in_cam\", \"traj3d_in_cam_array.npy\")\n",
    "    traj_data_raw = np.load(traj_path)\n",
    "    # transpose\n",
    "    traj_data = np.zeros_like(traj_data_raw)\n",
    "    traj_data[:, 0] = traj_data_raw[:, 1]\n",
    "    traj_data[:, 1] = traj_data_raw[:, 0]\n",
    "    traj_data[: ,2] = traj_data_raw[: ,2]/1000.0 # mm -> m\n",
    "\n",
    "    traj_all.append(traj_data)\n",
    "    nframes.append(min(traj_data.shape[0], max_frames))\n",
    "\n",
    "    glip_feats_path = os.path.join(glip_feats_dir, date_path + \".npy\")\n",
    "    glip_feats = np.load(glip_feats_path)\n",
    "    glip_feats_all.append(glip_feats)"
   ]
  },
  {
   "cell_type": "code",
   "execution_count": 5,
   "id": "7c46b6d0",
   "metadata": {},
   "outputs": [
    {
     "ename": "IndexError",
     "evalue": "list index out of range",
     "output_type": "error",
     "traceback": [
      "\u001b[0;31m---------------------------------------------------------------------------\u001b[0m",
      "\u001b[0;31mIndexError\u001b[0m                                Traceback (most recent call last)",
      "Cell \u001b[0;32mIn[5], line 3\u001b[0m\n\u001b[1;32m      1\u001b[0m idx \u001b[38;5;241m=\u001b[39m \u001b[38;5;241m0\u001b[39m\n\u001b[0;32m----> 3\u001b[0m \u001b[38;5;28mprint\u001b[39m(target_filenames[idx])\n\u001b[1;32m      4\u001b[0m \u001b[38;5;28mprint\u001b[39m(traj_all[idx]\u001b[38;5;241m.\u001b[39mshape)\n\u001b[1;32m      5\u001b[0m \u001b[38;5;28mprint\u001b[39m(glip_feats_all[idx]\u001b[38;5;241m.\u001b[39mshape)\n",
      "\u001b[0;31mIndexError\u001b[0m: list index out of range"
     ]
    }
   ],
   "source": [
    "idx = 0\n",
    "\n",
    "print(target_filenames[idx])\n",
    "print(traj_all[idx].shape)\n",
    "print(glip_feats_all[idx].shape)\n",
    "print(nframes[idx])"
   ]
  }
 ],
 "metadata": {
  "kernelspec": {
   "display_name": "Python 3 (ipykernel)",
   "language": "python",
   "name": "python3"
  },
  "language_info": {
   "codemirror_mode": {
    "name": "ipython",
    "version": 3
   },
   "file_extension": ".py",
   "mimetype": "text/x-python",
   "name": "python",
   "nbconvert_exporter": "python",
   "pygments_lexer": "ipython3",
   "version": "3.11.3"
  }
 },
 "nbformat": 4,
 "nbformat_minor": 5
}
